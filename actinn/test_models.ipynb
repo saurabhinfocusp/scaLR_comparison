{
 "cells": [
  {
   "cell_type": "markdown",
   "id": "3433eb4d-751f-423e-8659-7cd6c30f72fa",
   "metadata": {},
   "source": [
    "# Test models"
   ]
  },
  {
   "cell_type": "code",
   "execution_count": null,
   "id": "2bc1cc95-aa7d-4fea-8f88-4b07485f9f57",
   "metadata": {},
   "outputs": [],
   "source": [
    "import pandas as pd\n",
    "import numpy as np\n",
    "from sklearn.metrics import classification_report"
   ]
  },
  {
   "cell_type": "markdown",
   "id": "249b7aca-0f3f-4789-8921-11101db4151a",
   "metadata": {},
   "source": [
    "## All Features"
   ]
  },
  {
   "cell_type": "markdown",
   "id": "6469c996-372d-4af8-9bed-5a1328839fb9",
   "metadata": {},
   "source": [
    "### Cell Type\n",
    "\n",
    "- Train Accuracy: 0.9999172\n",
    "- Test Accuracy: 0.939\n",
    "- Run time: 2491.5409133479698\n",
    "- User time: 4908.68\n",
    "- System Time: 693.56\n",
    "- Wall clock time: 41:34.36 ~ 2494sec\n",
    "- Max memorry: 55738604"
   ]
  },
  {
   "cell_type": "code",
   "execution_count": null,
   "id": "6acbe227-ee48-4461-91de-b27add8b92dc",
   "metadata": {},
   "outputs": [],
   "source": [
    "predicted_cell_type = pd.read_csv(\"data/results/NN/predicted_celltype_all_features.txt\", sep=\"\\t\")"
   ]
  },
  {
   "cell_type": "code",
   "execution_count": null,
   "id": "511e259e-a947-4563-8133-98776c8c6508",
   "metadata": {},
   "outputs": [],
   "source": [
    "predicted_cell_type"
   ]
  },
  {
   "cell_type": "code",
   "execution_count": null,
   "id": "70c2cda0-9abf-4d5c-9209-ff82b83ac429",
   "metadata": {},
   "outputs": [],
   "source": [
    "actual_cell_type = pd.read_csv(\"data/all_features/test_cell_type_labels.csv\")"
   ]
  },
  {
   "cell_type": "code",
   "execution_count": null,
   "id": "458fd83f-b22a-4bb1-9355-33ada9516c01",
   "metadata": {},
   "outputs": [],
   "source": [
    "actual_cell_type"
   ]
  },
  {
   "cell_type": "code",
   "execution_count": null,
   "id": "063d1c09-c625-48ee-9d24-55e0ac68ef16",
   "metadata": {},
   "outputs": [],
   "source": [
    "celltype_names = actual_cell_type['cell_type'].unique()"
   ]
  },
  {
   "cell_type": "code",
   "execution_count": null,
   "id": "0f094626-7c9c-4691-a6b4-3409048af162",
   "metadata": {},
   "outputs": [],
   "source": [
    "celltype_names"
   ]
  },
  {
   "cell_type": "code",
   "execution_count": null,
   "id": "fd71c610-4714-4751-9655-aca2ebf61cbf",
   "metadata": {},
   "outputs": [],
   "source": [
    "print(classification_report(\n",
    "    actual_cell_type['cell_type'].to_numpy(),\n",
    "    predicted_cell_type['celltype'].to_numpy(),\n",
    "    target_names=celltype_names, digits=3))"
   ]
  },
  {
   "cell_type": "code",
   "execution_count": null,
   "id": "0ac77c9c-2857-47ab-8791-b28bdea95116",
   "metadata": {},
   "outputs": [],
   "source": []
  },
  {
   "cell_type": "markdown",
   "id": "f1f531a3-6889-49a4-a92e-efbfbf306566",
   "metadata": {},
   "source": [
    "### Cell State\n",
    "\n",
    "- Train Accuracy: 0.99994826\n",
    "- Test Accuracy: 0.843\n",
    "- Run time: 2432.366552325955\n",
    "- User time: 5089.27\n",
    "- System Time: 661.70\n",
    "- Wall clock time: 40:34.96\n",
    "- Max memorry: 55741728"
   ]
  },
  {
   "cell_type": "code",
   "execution_count": null,
   "id": "92ec2c29-6d92-426b-8667-63b1fe1844d4",
   "metadata": {},
   "outputs": [],
   "source": [
    "actual_cell_state = pd.read_csv(\"data/all_features/test_cell_state_labels.csv\")"
   ]
  },
  {
   "cell_type": "code",
   "execution_count": null,
   "id": "e483e3cb-2baa-479e-8a4b-d26e63c963ee",
   "metadata": {},
   "outputs": [],
   "source": [
    "predicted_cell_state = pd.read_csv(\"data/results/NN/predicted_cellstate_all_features.txt\", sep=\"\\t\")"
   ]
  },
  {
   "cell_type": "code",
   "execution_count": null,
   "id": "d4fbb4e0-3c94-4106-a1a3-79d87a86c451",
   "metadata": {},
   "outputs": [],
   "source": [
    "predicted_cell_state"
   ]
  },
  {
   "cell_type": "code",
   "execution_count": null,
   "id": "56aa4188-44d5-42cf-a5fe-7ecc96c5352c",
   "metadata": {},
   "outputs": [],
   "source": [
    "actual_cell_state"
   ]
  },
  {
   "cell_type": "code",
   "execution_count": null,
   "id": "7de01546-2d51-41af-9ddc-5fd7b11a6355",
   "metadata": {},
   "outputs": [],
   "source": [
    "cellstate_names = actual_cell_state['cell_state'].unique()"
   ]
  },
  {
   "cell_type": "code",
   "execution_count": null,
   "id": "1afec624-f881-4343-bb5d-419ec337596e",
   "metadata": {},
   "outputs": [],
   "source": [
    "cellstate_names"
   ]
  },
  {
   "cell_type": "code",
   "execution_count": null,
   "id": "6bfe606c-81bf-4267-b5cc-ec3d221f5ffe",
   "metadata": {},
   "outputs": [],
   "source": [
    "print(classification_report(\n",
    "    actual_cell_state['cell_state'].to_numpy(),\n",
    "    predicted_cell_state['cellstate'].to_numpy(),\n",
    "    target_names=cellstate_names, digits=3))"
   ]
  },
  {
   "cell_type": "markdown",
   "id": "420046e3-4cda-49c5-ac9e-53828bf16ee7",
   "metadata": {},
   "source": [
    "## Top 3500 Features"
   ]
  },
  {
   "cell_type": "markdown",
   "id": "a0fcad2f-2efa-4500-a48a-e54457f42014",
   "metadata": {},
   "source": [
    "### Cell Type\n",
    "- Train Accuracy: 0.9985507\n",
    "- Run time: 336.8966991540001"
   ]
  },
  {
   "cell_type": "code",
   "execution_count": null,
   "id": "6b5ec77b-4938-449a-99e1-6627b4f675d6",
   "metadata": {},
   "outputs": [],
   "source": [
    "predicted_cell_type_3500 = pd.read_csv(\"data/results/sklearn_features/predicted_label_celltype_3500.txt\", sep=\"\\t\")"
   ]
  },
  {
   "cell_type": "code",
   "execution_count": null,
   "id": "a3c02757-e924-4d67-80fe-860bc0934386",
   "metadata": {},
   "outputs": [],
   "source": [
    "predicted_cell_type_3500"
   ]
  },
  {
   "cell_type": "code",
   "execution_count": null,
   "id": "ef094244-a052-40c1-ad95-8d615325ded9",
   "metadata": {},
   "outputs": [],
   "source": [
    "actual_cell_type_3500 = pd.read_csv(\"data/top_3500//test_celltype_labels.csv\", sep=\"\\t\", header=None)"
   ]
  },
  {
   "cell_type": "code",
   "execution_count": null,
   "id": "324bd556-3cbc-41b3-b70e-a651a83e2fd3",
   "metadata": {},
   "outputs": [],
   "source": [
    "actual_cell_type_3500.rename(columns={1: \"cell_type\"}, inplace=True)"
   ]
  },
  {
   "cell_type": "code",
   "execution_count": null,
   "id": "1bf46502-84d9-4f19-b19e-0cf7188efd56",
   "metadata": {},
   "outputs": [],
   "source": [
    "celltype_names_3500 = actual_cell_type_3500['cell_type'].unique()"
   ]
  },
  {
   "cell_type": "code",
   "execution_count": null,
   "id": "a8a71b4f-69f8-4106-8918-e8ad6b1bf7f5",
   "metadata": {},
   "outputs": [],
   "source": [
    "celltype_names_3500"
   ]
  },
  {
   "cell_type": "code",
   "execution_count": null,
   "id": "2a2439d7-7746-4eb6-8e16-1c301ddca448",
   "metadata": {},
   "outputs": [],
   "source": [
    "print(classification_report(\n",
    "    actual_cell_type_3500['cell_type'].to_numpy(),\n",
    "    predicted_cell_type_3500['celltype'].to_numpy(),\n",
    "    target_names=celltype_names_3500, digits=3))"
   ]
  },
  {
   "cell_type": "code",
   "execution_count": null,
   "id": "bb4293f6-a154-402c-ab6c-a07c5777c16f",
   "metadata": {},
   "outputs": [],
   "source": []
  },
  {
   "cell_type": "markdown",
   "id": "8e8ffa52-6b62-42b8-beed-d5dfbdd71b7b",
   "metadata": {},
   "source": [
    "### Cell State\n",
    "- Run time: 329.55512498700045"
   ]
  },
  {
   "cell_type": "code",
   "execution_count": null,
   "id": "ee36ea46-5bd4-4f9e-adba-12d0245389dd",
   "metadata": {},
   "outputs": [],
   "source": [
    "predicted_cell_state_3500 = pd.read_csv(\"data/results/sklearn_features/predicted_label_cellstate_3500.txt\", sep=\"\\t\")"
   ]
  },
  {
   "cell_type": "code",
   "execution_count": null,
   "id": "53cc9c70-6ae1-4207-844c-0ca42f51698e",
   "metadata": {},
   "outputs": [],
   "source": [
    "predicted_cell_state_3500"
   ]
  },
  {
   "cell_type": "code",
   "execution_count": null,
   "id": "5b19c3bf-3321-4592-98b8-1364acf2ca71",
   "metadata": {},
   "outputs": [],
   "source": [
    "# predicted_cell_state_3500.rename(columns={\"celltype\":\"cellstate\"}).to_csv(\"predicted_label_cellstate_3500.txt\", sep=\"\\t\")"
   ]
  },
  {
   "cell_type": "code",
   "execution_count": null,
   "id": "e5f51514-bb04-4517-bf33-ca20c97e21b5",
   "metadata": {},
   "outputs": [],
   "source": [
    "actual_cell_state_3500 = pd.read_csv(\"data/top_3500//test_cellstate_labels.csv\", sep=\"\\t\", header=None)"
   ]
  },
  {
   "cell_type": "code",
   "execution_count": null,
   "id": "6886c06c-2320-4c1b-a8d2-9f69cc18499d",
   "metadata": {},
   "outputs": [],
   "source": [
    "actual_cell_state_3500.rename(columns={1: \"cell_state\"}, inplace=True)"
   ]
  },
  {
   "cell_type": "code",
   "execution_count": null,
   "id": "c062fe12-b3fc-469e-bd70-1a1bedf9fb76",
   "metadata": {},
   "outputs": [],
   "source": [
    "cellstate_names_3500 = actual_cell_state_3500['cell_state'].unique()"
   ]
  },
  {
   "cell_type": "code",
   "execution_count": null,
   "id": "e76d0bdd-6f3b-48f2-9b66-b1d78c8df801",
   "metadata": {},
   "outputs": [],
   "source": [
    "cellstate_names_3500"
   ]
  },
  {
   "cell_type": "code",
   "execution_count": null,
   "id": "30f8ff0b-7746-4e5d-bab0-460623ac44ec",
   "metadata": {},
   "outputs": [],
   "source": [
    "print(classification_report(\n",
    "    actual_cell_state_3500['cell_state'].to_numpy(),\n",
    "    predicted_cell_state_3500['cellstate'].to_numpy(),\n",
    "    target_names=cellstate_names_3500, digits=3))"
   ]
  },
  {
   "cell_type": "markdown",
   "id": "41bcfd24-6270-4bfe-a7d0-4c6097345670",
   "metadata": {},
   "source": [
    "## Top 3500 Features - NN"
   ]
  },
  {
   "cell_type": "markdown",
   "id": "973c83bc-b12c-48d5-9de9-8c80fdacf277",
   "metadata": {},
   "source": [
    "### Cell Type\n",
    "- Train Accuracy: 0.9998137\n",
    "- Run time: 393.970452648995"
   ]
  },
  {
   "cell_type": "code",
   "execution_count": null,
   "id": "9127ee41-8634-4bc4-8305-4e6e88a6114a",
   "metadata": {},
   "outputs": [],
   "source": [
    "predicted_cell_type_3500_nn = pd.read_csv(\"data/results/NN/predicted_celltype_label.txt\", sep=\"\\t\")"
   ]
  },
  {
   "cell_type": "code",
   "execution_count": null,
   "id": "1fb9cc00-3b12-40be-861f-36f0e6b50368",
   "metadata": {},
   "outputs": [],
   "source": [
    "predicted_cell_type_3500_nn"
   ]
  },
  {
   "cell_type": "code",
   "execution_count": null,
   "id": "543060be-d178-4da7-bbcd-69f8deea9285",
   "metadata": {},
   "outputs": [],
   "source": [
    "actual_cell_type_3500_nn = pd.read_csv(\"data/top_3500/nn/test_celltype_labels.csv\", sep=\"\\t\", header=None)"
   ]
  },
  {
   "cell_type": "code",
   "execution_count": null,
   "id": "a4df5753-d7ba-4ffc-869c-bd7f8f533252",
   "metadata": {},
   "outputs": [],
   "source": [
    "actual_cell_type_3500_nn.rename(columns={1: \"cell_type\"}, inplace=True)"
   ]
  },
  {
   "cell_type": "code",
   "execution_count": null,
   "id": "4f0af582-687a-4b7f-b78a-32b1fab2a180",
   "metadata": {},
   "outputs": [],
   "source": [
    "celltype_names_3500_nn = actual_cell_type_3500_nn['cell_type'].unique()"
   ]
  },
  {
   "cell_type": "code",
   "execution_count": null,
   "id": "15fa3a02-781d-41dc-a24a-49eca5fa0025",
   "metadata": {},
   "outputs": [],
   "source": [
    "celltype_names_3500_nn"
   ]
  },
  {
   "cell_type": "code",
   "execution_count": null,
   "id": "daf3b355-3c45-45d0-abcb-d3f86c9da2f0",
   "metadata": {},
   "outputs": [],
   "source": [
    "print(classification_report(\n",
    "    actual_cell_type_3500_nn['cell_type'].to_numpy(),\n",
    "    predicted_cell_type_3500_nn['celltype'].to_numpy(),\n",
    "    target_names=celltype_names_3500_nn, digits=3))"
   ]
  },
  {
   "cell_type": "code",
   "execution_count": null,
   "id": "1af9b789-b68b-4263-a153-af67aaf39ad6",
   "metadata": {},
   "outputs": [],
   "source": []
  },
  {
   "cell_type": "markdown",
   "id": "39258284-55e0-4318-9070-ef5b9e94390a",
   "metadata": {},
   "source": [
    "### Cell State\n",
    "- Train Accuracy: 0.9939338\n",
    "- Run time: 363.9517272069934"
   ]
  },
  {
   "cell_type": "code",
   "execution_count": null,
   "id": "1ed5b1dc-ebb6-4cb0-a4c6-2c8af83e0733",
   "metadata": {},
   "outputs": [],
   "source": [
    "path = \"data/results/NN/predicted_cellstate_label.txt\""
   ]
  },
  {
   "cell_type": "code",
   "execution_count": null,
   "id": "ff66e521-5419-4119-9c48-99bbd2c6adcd",
   "metadata": {},
   "outputs": [],
   "source": [
    "predicted_cell_state_3500_nn = pd.read_csv(path, sep=\"\\t\")"
   ]
  },
  {
   "cell_type": "code",
   "execution_count": null,
   "id": "49ed6202-1cf5-4e9d-aeb6-13a1183d91a3",
   "metadata": {},
   "outputs": [],
   "source": [
    "predicted_cell_state_3500_nn"
   ]
  },
  {
   "cell_type": "code",
   "execution_count": null,
   "id": "65234cb0-3697-4961-b34f-64dace36c6ba",
   "metadata": {},
   "outputs": [],
   "source": [
    "predicted_cell_state_3500_nn.rename(columns={\"celltype\":\"cellstate\"}).to_csv(path, sep=\"\\t\")"
   ]
  },
  {
   "cell_type": "code",
   "execution_count": null,
   "id": "479bec9c-e0dc-41aa-aab7-494fd88226d4",
   "metadata": {},
   "outputs": [],
   "source": [
    "predicted_cell_state_3500_nn = pd.read_csv(path, sep=\"\\t\")"
   ]
  },
  {
   "cell_type": "code",
   "execution_count": null,
   "id": "1da5c1e1-b7dc-4e0e-bf7c-4b22f41b5a7b",
   "metadata": {},
   "outputs": [],
   "source": [
    "actual_cell_state_3500_nn = pd.read_csv(\"data/top_3500/nn/test_cellstate_labels.csv\", sep=\"\\t\", header=None)"
   ]
  },
  {
   "cell_type": "code",
   "execution_count": null,
   "id": "9ab2357b-5a05-4d61-9eae-89e725aaa3ac",
   "metadata": {},
   "outputs": [],
   "source": [
    "actual_cell_state_3500_nn"
   ]
  },
  {
   "cell_type": "code",
   "execution_count": null,
   "id": "9b99ce20-3375-4585-bd43-ff07c3756f5f",
   "metadata": {},
   "outputs": [],
   "source": [
    "actual_cell_state_3500_nn.rename(columns={1: \"cell_state\"}, inplace=True)"
   ]
  },
  {
   "cell_type": "code",
   "execution_count": null,
   "id": "707725ca-dfda-4f96-888d-0cfdfb89ab9d",
   "metadata": {},
   "outputs": [],
   "source": [
    "cellstate_names_3500_nn = actual_cell_state_3500_nn['cell_state'].unique()"
   ]
  },
  {
   "cell_type": "code",
   "execution_count": null,
   "id": "f993fdd9-02bb-4840-a7d4-45252e7214a5",
   "metadata": {},
   "outputs": [],
   "source": [
    "cellstate_names_3500_nn"
   ]
  },
  {
   "cell_type": "code",
   "execution_count": null,
   "id": "15819a04-5676-4ef2-a5ae-3fa68eb2a4a1",
   "metadata": {},
   "outputs": [],
   "source": [
    "print(classification_report(\n",
    "    actual_cell_state_3500_nn['cell_state'].to_numpy(),\n",
    "    predicted_cell_state_3500_nn['cellstate'].to_numpy(),\n",
    "    target_names=cellstate_names_3500_nn, digits=3))"
   ]
  },
  {
   "cell_type": "code",
   "execution_count": null,
   "id": "47866f15-a31f-4f34-9749-8946920e584d",
   "metadata": {},
   "outputs": [],
   "source": []
  }
 ],
 "metadata": {
  "kernelspec": {
   "display_name": "actinn",
   "language": "python",
   "name": "actinn"
  },
  "language_info": {
   "codemirror_mode": {
    "name": "ipython",
    "version": 3
   },
   "file_extension": ".py",
   "mimetype": "text/x-python",
   "name": "python",
   "nbconvert_exporter": "python",
   "pygments_lexer": "ipython3",
   "version": "3.6.13"
  }
 },
 "nbformat": 4,
 "nbformat_minor": 5
}
